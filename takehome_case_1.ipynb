{
 "cells": [
  {
   "cell_type": "code",
   "execution_count": 1,
   "id": "785853af",
   "metadata": {},
   "outputs": [],
   "source": [
    "# Import library\n",
    "import pandas as pd"
   ]
  },
  {
   "cell_type": "code",
   "execution_count": 2,
   "id": "64061d1c",
   "metadata": {},
   "outputs": [],
   "source": [
    "# Step 1: Create Example Data\n",
    "# project_id, model_id, date, task_id, user_id, score\n",
    "data = {'project_id':[1,1,2,3], 'model_id':[1,2,1,3], 'date':['2024-01-02','2024-01-02','2024-01-03','2024-01-04'],'task_id':[1,1,2,3],'user_id':[1,2,3,6],'score':['good','bad','good','good']}"
   ]
  },
  {
   "cell_type": "code",
   "execution_count": 5,
   "id": "9a117fac",
   "metadata": {},
   "outputs": [],
   "source": [
    "evaluation_results = pd.DataFrame(data)"
   ]
  },
  {
   "cell_type": "code",
   "execution_count": 6,
   "id": "5bd447ad",
   "metadata": {},
   "outputs": [
    {
     "data": {
      "text/html": [
       "<div>\n",
       "<style scoped>\n",
       "    .dataframe tbody tr th:only-of-type {\n",
       "        vertical-align: middle;\n",
       "    }\n",
       "\n",
       "    .dataframe tbody tr th {\n",
       "        vertical-align: top;\n",
       "    }\n",
       "\n",
       "    .dataframe thead th {\n",
       "        text-align: right;\n",
       "    }\n",
       "</style>\n",
       "<table border=\"1\" class=\"dataframe\">\n",
       "  <thead>\n",
       "    <tr style=\"text-align: right;\">\n",
       "      <th></th>\n",
       "      <th>project_id</th>\n",
       "      <th>model_id</th>\n",
       "      <th>date</th>\n",
       "      <th>task_id</th>\n",
       "      <th>user_id</th>\n",
       "      <th>score</th>\n",
       "    </tr>\n",
       "  </thead>\n",
       "  <tbody>\n",
       "    <tr>\n",
       "      <th>0</th>\n",
       "      <td>1</td>\n",
       "      <td>1</td>\n",
       "      <td>2024-01-02</td>\n",
       "      <td>1</td>\n",
       "      <td>1</td>\n",
       "      <td>good</td>\n",
       "    </tr>\n",
       "    <tr>\n",
       "      <th>1</th>\n",
       "      <td>1</td>\n",
       "      <td>2</td>\n",
       "      <td>2024-01-02</td>\n",
       "      <td>1</td>\n",
       "      <td>2</td>\n",
       "      <td>bad</td>\n",
       "    </tr>\n",
       "    <tr>\n",
       "      <th>2</th>\n",
       "      <td>2</td>\n",
       "      <td>1</td>\n",
       "      <td>2024-01-03</td>\n",
       "      <td>2</td>\n",
       "      <td>3</td>\n",
       "      <td>good</td>\n",
       "    </tr>\n",
       "    <tr>\n",
       "      <th>3</th>\n",
       "      <td>3</td>\n",
       "      <td>3</td>\n",
       "      <td>2024-01-04</td>\n",
       "      <td>3</td>\n",
       "      <td>6</td>\n",
       "      <td>good</td>\n",
       "    </tr>\n",
       "  </tbody>\n",
       "</table>\n",
       "</div>"
      ],
      "text/plain": [
       "   project_id  model_id        date  task_id  user_id score\n",
       "0           1         1  2024-01-02        1        1  good\n",
       "1           1         2  2024-01-02        1        2   bad\n",
       "2           2         1  2024-01-03        2        3  good\n",
       "3           3         3  2024-01-04        3        6  good"
      ]
     },
     "execution_count": 6,
     "metadata": {},
     "output_type": "execute_result"
    }
   ],
   "source": [
    "evaluation_results"
   ]
  },
  {
   "cell_type": "code",
   "execution_count": 7,
   "id": "3894a119",
   "metadata": {},
   "outputs": [],
   "source": [
    "# Step 2: Filter and Aggregate Scores\n",
    "filtered_results = evaluation_results.dropna(subset=[\"score\"])"
   ]
  },
  {
   "cell_type": "code",
   "execution_count": 8,
   "id": "b3c285b5",
   "metadata": {},
   "outputs": [
    {
     "data": {
      "text/html": [
       "<div>\n",
       "<style scoped>\n",
       "    .dataframe tbody tr th:only-of-type {\n",
       "        vertical-align: middle;\n",
       "    }\n",
       "\n",
       "    .dataframe tbody tr th {\n",
       "        vertical-align: top;\n",
       "    }\n",
       "\n",
       "    .dataframe thead th {\n",
       "        text-align: right;\n",
       "    }\n",
       "</style>\n",
       "<table border=\"1\" class=\"dataframe\">\n",
       "  <thead>\n",
       "    <tr style=\"text-align: right;\">\n",
       "      <th></th>\n",
       "      <th>project_id</th>\n",
       "      <th>model_id</th>\n",
       "      <th>date</th>\n",
       "      <th>task_id</th>\n",
       "      <th>user_id</th>\n",
       "      <th>score</th>\n",
       "    </tr>\n",
       "  </thead>\n",
       "  <tbody>\n",
       "    <tr>\n",
       "      <th>0</th>\n",
       "      <td>1</td>\n",
       "      <td>1</td>\n",
       "      <td>2024-01-02</td>\n",
       "      <td>1</td>\n",
       "      <td>1</td>\n",
       "      <td>good</td>\n",
       "    </tr>\n",
       "    <tr>\n",
       "      <th>1</th>\n",
       "      <td>1</td>\n",
       "      <td>2</td>\n",
       "      <td>2024-01-02</td>\n",
       "      <td>1</td>\n",
       "      <td>2</td>\n",
       "      <td>bad</td>\n",
       "    </tr>\n",
       "    <tr>\n",
       "      <th>2</th>\n",
       "      <td>2</td>\n",
       "      <td>1</td>\n",
       "      <td>2024-01-03</td>\n",
       "      <td>2</td>\n",
       "      <td>3</td>\n",
       "      <td>good</td>\n",
       "    </tr>\n",
       "    <tr>\n",
       "      <th>3</th>\n",
       "      <td>3</td>\n",
       "      <td>3</td>\n",
       "      <td>2024-01-04</td>\n",
       "      <td>3</td>\n",
       "      <td>6</td>\n",
       "      <td>good</td>\n",
       "    </tr>\n",
       "  </tbody>\n",
       "</table>\n",
       "</div>"
      ],
      "text/plain": [
       "   project_id  model_id        date  task_id  user_id score\n",
       "0           1         1  2024-01-02        1        1  good\n",
       "1           1         2  2024-01-02        1        2   bad\n",
       "2           2         1  2024-01-03        2        3  good\n",
       "3           3         3  2024-01-04        3        6  good"
      ]
     },
     "execution_count": 8,
     "metadata": {},
     "output_type": "execute_result"
    }
   ],
   "source": [
    "filtered_results"
   ]
  },
  {
   "cell_type": "code",
   "execution_count": 9,
   "id": "49795ab7",
   "metadata": {},
   "outputs": [],
   "source": [
    "# Classify Scores as Good or Bad\n",
    "filtered_results[\"good_score\"] = filtered_results[\"score\"].apply(lambda x: 1 if x == \"good\" else 0)"
   ]
  },
  {
   "cell_type": "code",
   "execution_count": 10,
   "id": "c4f73d92",
   "metadata": {},
   "outputs": [],
   "source": [
    "# Aggregate by Model\n",
    "comparison_summary = filtered_results.groupby(\"model_id\").agg(\n",
    "    total_scores=(\"score\", \"count\"),\n",
    "    good_scores=(\"good_score\", \"sum\")\n",
    ").reset_index()\n",
    "\n",
    "comparison_summary[\"good_ratio\"] = comparison_summary[\"good_scores\"] / comparison_summary[\"total_scores\"]\n"
   ]
  },
  {
   "cell_type": "code",
   "execution_count": 11,
   "id": "a29a9d8b",
   "metadata": {},
   "outputs": [],
   "source": [
    "# Step 3: Add Metadata\n",
    "# models_metadata: Describes each model with its name and type\n",
    "models_metadata = pd.DataFrame({\n",
    "    \"model_id\": [1, 2, 3],\n",
    "    \"model_name\": [\"Alpha\", \"Beta\", \"Gamma\"],\n",
    "    \"model_type\": [\"Type A\", \"Type B\", \"Type C\"]\n",
    "})"
   ]
  },
  {
   "cell_type": "code",
   "execution_count": 12,
   "id": "20902b22",
   "metadata": {},
   "outputs": [],
   "source": [
    "# Describes tasks with their category and description\n",
    "tasks_metadata = pd.DataFrame({\n",
    "    \"task_id\": [1, 2, 3, 4],\n",
    "    \"task_description\": [\"Classification\", \"Regression\", \"Clustering\", \"Forecasting\"],\n",
    "    \"task_category\": [\"Machine Learning\", \"Statistics\", \"AI\", \"Time Series\"]\n",
    "})"
   ]
  },
  {
   "cell_type": "code",
   "execution_count": 13,
   "id": "1983a662",
   "metadata": {},
   "outputs": [],
   "source": [
    "# Step 4: Join Metadata with Results\n",
    "# Join the Evaluation Results with Metadata\n",
    "enhanced_analysis = pd.merge(filtered_results, models_metadata, on=\"model_id\")\n",
    "enhanced_analysis = pd.merge(enhanced_analysis, tasks_metadata, on=\"task_id\")"
   ]
  },
  {
   "cell_type": "code",
   "execution_count": 14,
   "id": "3fbe3087",
   "metadata": {},
   "outputs": [],
   "source": [
    "# Aggregate Enhanced Data\n",
    "enhanced_summary = enhanced_analysis.groupby(\n",
    "    [\"model_id\", \"model_name\", \"model_type\", \"task_category\"]\n",
    ").agg(\n",
    "    total_scores=(\"score\", \"count\"),\n",
    "    good_scores=(\"good_score\", \"sum\")\n",
    ").reset_index()\n",
    "\n",
    "enhanced_summary[\"good_ratio\"] = enhanced_summary[\"good_scores\"] / enhanced_summary[\"total_scores\"]"
   ]
  },
  {
   "cell_type": "code",
   "execution_count": 15,
   "id": "4ba90621",
   "metadata": {},
   "outputs": [
    {
     "data": {
      "text/html": [
       "<div>\n",
       "<style scoped>\n",
       "    .dataframe tbody tr th:only-of-type {\n",
       "        vertical-align: middle;\n",
       "    }\n",
       "\n",
       "    .dataframe tbody tr th {\n",
       "        vertical-align: top;\n",
       "    }\n",
       "\n",
       "    .dataframe thead th {\n",
       "        text-align: right;\n",
       "    }\n",
       "</style>\n",
       "<table border=\"1\" class=\"dataframe\">\n",
       "  <thead>\n",
       "    <tr style=\"text-align: right;\">\n",
       "      <th></th>\n",
       "      <th>model_id</th>\n",
       "      <th>model_name</th>\n",
       "      <th>model_type</th>\n",
       "      <th>task_category</th>\n",
       "      <th>total_scores</th>\n",
       "      <th>good_scores</th>\n",
       "      <th>good_ratio</th>\n",
       "    </tr>\n",
       "  </thead>\n",
       "  <tbody>\n",
       "    <tr>\n",
       "      <th>0</th>\n",
       "      <td>1</td>\n",
       "      <td>Alpha</td>\n",
       "      <td>Type A</td>\n",
       "      <td>Machine Learning</td>\n",
       "      <td>1</td>\n",
       "      <td>1</td>\n",
       "      <td>1.0</td>\n",
       "    </tr>\n",
       "    <tr>\n",
       "      <th>1</th>\n",
       "      <td>1</td>\n",
       "      <td>Alpha</td>\n",
       "      <td>Type A</td>\n",
       "      <td>Statistics</td>\n",
       "      <td>1</td>\n",
       "      <td>1</td>\n",
       "      <td>1.0</td>\n",
       "    </tr>\n",
       "    <tr>\n",
       "      <th>2</th>\n",
       "      <td>2</td>\n",
       "      <td>Beta</td>\n",
       "      <td>Type B</td>\n",
       "      <td>Machine Learning</td>\n",
       "      <td>1</td>\n",
       "      <td>0</td>\n",
       "      <td>0.0</td>\n",
       "    </tr>\n",
       "    <tr>\n",
       "      <th>3</th>\n",
       "      <td>3</td>\n",
       "      <td>Gamma</td>\n",
       "      <td>Type C</td>\n",
       "      <td>AI</td>\n",
       "      <td>1</td>\n",
       "      <td>1</td>\n",
       "      <td>1.0</td>\n",
       "    </tr>\n",
       "  </tbody>\n",
       "</table>\n",
       "</div>"
      ],
      "text/plain": [
       "   model_id model_name model_type     task_category  total_scores  \\\n",
       "0         1      Alpha     Type A  Machine Learning             1   \n",
       "1         1      Alpha     Type A        Statistics             1   \n",
       "2         2       Beta     Type B  Machine Learning             1   \n",
       "3         3      Gamma     Type C                AI             1   \n",
       "\n",
       "   good_scores  good_ratio  \n",
       "0            1         1.0  \n",
       "1            1         1.0  \n",
       "2            0         0.0  \n",
       "3            1         1.0  "
      ]
     },
     "execution_count": 15,
     "metadata": {},
     "output_type": "execute_result"
    }
   ],
   "source": [
    "enhanced_summary"
   ]
  },
  {
   "cell_type": "code",
   "execution_count": null,
   "id": "e75fcb22",
   "metadata": {},
   "outputs": [],
   "source": []
  }
 ],
 "metadata": {
  "kernelspec": {
   "display_name": "Python 3 (ipykernel)",
   "language": "python",
   "name": "python3"
  },
  "language_info": {
   "codemirror_mode": {
    "name": "ipython",
    "version": 3
   },
   "file_extension": ".py",
   "mimetype": "text/x-python",
   "name": "python",
   "nbconvert_exporter": "python",
   "pygments_lexer": "ipython3",
   "version": "3.11.5"
  }
 },
 "nbformat": 4,
 "nbformat_minor": 5
}
